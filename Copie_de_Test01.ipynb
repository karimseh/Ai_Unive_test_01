{
  "nbformat": 4,
  "nbformat_minor": 0,
  "metadata": {
    "colab": {
      "name": "Copie de Test01.ipynb",
      "provenance": []
    },
    "kernelspec": {
      "name": "python3",
      "display_name": "Python 3"
    }
  },
  "cells": [
    {
      "cell_type": "markdown",
      "metadata": {
        "id": "WYm7ckZE57rl"
      },
      "source": [
        "## **General**\r\n",
        "1- What's the difference between a Machine Learning (ML) Model and a Machine Learning algorithm.\r\n",
        "\r\n",
        "2- Why we need to study Linear Algebra for ML?"
      ]
    },
    {
      "cell_type": "markdown",
      "metadata": {
        "id": "vmgZdLTrdnel"
      },
      "source": [
        "# Responses:\r\n",
        "1-The machine learning model is what we obtain after training, it's a sort of a function that takes input \"new data\" and try to predict. \r\n",
        "Machine learning algorithm is an algorithm that we apply on our dataset to obtain the model. (like : Naive Bayes, Knn, Id3 ..)\r\n",
        "\r\n",
        "2-We need to study linear algebra for example to know how to manupilate matrices, which are very important in ML.\r\n",
        " -matrices are used to represent data  "
      ]
    },
    {
      "cell_type": "markdown",
      "metadata": {
        "id": "SPBs8VixeD8G"
      },
      "source": [
        "**## Vectors:**\r\n",
        "\r\n",
        "**1- create a vector: **\r\n",
        "\r\n",
        "Our vector can be written as v=(2,1), but more formally we would use the following notation, in which the dimensional coordinate values for the vector are shown as a matrix:$$\\vec{v} = \\begin{bmatrix}2 \\\\ 1 \\end{bmatrix}$$"
      ]
    },
    {
      "cell_type": "code",
      "metadata": {
        "id": "pYlRp9O5gOcZ",
        "colab": {
          "base_uri": "https://localhost:8080/"
        },
        "outputId": "31e4ab01-323b-47a2-945f-06a6a07a68ae"
      },
      "source": [
        "import numpy as np\r\n",
        "#TO DO...\r\n",
        "v = np.array([[2],\r\n",
        "              [1]])\r\n",
        "\r\n",
        "\r\n",
        "print(v)"
      ],
      "execution_count": null,
      "outputs": [
        {
          "output_type": "stream",
          "text": [
            "[[2]\n",
            " [1]]\n"
          ],
          "name": "stdout"
        }
      ]
    },
    {
      "cell_type": "markdown",
      "metadata": {
        "id": "I3HPxUfQgpp2"
      },
      "source": [
        "### **2-Calculating Magnitude**"
      ]
    },
    {
      "cell_type": "code",
      "metadata": {
        "id": "mIXSLO7dhGzp",
        "colab": {
          "base_uri": "https://localhost:8080/"
        },
        "outputId": "2976a996-201b-4108-91b9-d9bc7a47f042"
      },
      "source": [
        "import math\r\n",
        "#TO DO... \r\n",
        "magnitude = math.sqrt((v[0]**2)+(v[1]**2))\r\n",
        "print(magnitude)\r\n"
      ],
      "execution_count": null,
      "outputs": [
        {
          "output_type": "stream",
          "text": [
            "2.23606797749979\n"
          ],
          "name": "stdout"
        }
      ]
    },
    {
      "cell_type": "markdown",
      "metadata": {
        "id": "7jBRtTMdh-0H"
      },
      "source": [
        "\r\n",
        "**3- Vector Addition:**\r\n",
        "So far, we've worked with one vector at a time. What happens when you need to add two vectors.\r\n",
        "\r\n",
        "Let's take a look at an example, we already have a vector named v, as defined here:$$\\vec{v} = \\begin{bmatrix}2 \\\\ 1 \\end{bmatrix}$$Now let's create a second vector, and called s like this:$$\\vec{s} = \\begin{bmatrix}-3 \\\\ 2 \\end{bmatrix}$$\r\n",
        "\r\n",
        "And we have :$$\\vec{z} = \\vec{v}+\\vec{s}$$"
      ]
    },
    {
      "cell_type": "code",
      "metadata": {
        "id": "cyPCRCXZie9e",
        "colab": {
          "base_uri": "https://localhost:8080/"
        },
        "outputId": "d3871c8a-4ab1-4474-f420-a66216439110"
      },
      "source": [
        "\r\n",
        "import math\r\n",
        "import numpy as np\r\n",
        "\r\n",
        "v = np.array([[2],\r\n",
        "              [1]]) \r\n",
        "s = np.array([[-3],\r\n",
        "              [2]])\r\n",
        "z = v + s\r\n",
        "print (z)"
      ],
      "execution_count": null,
      "outputs": [
        {
          "output_type": "stream",
          "text": [
            "[[-1]\n",
            " [ 3]]\n"
          ],
          "name": "stdout"
        }
      ]
    },
    {
      "cell_type": "markdown",
      "metadata": {
        "id": "_CjY0iqijB5N"
      },
      "source": [
        "\r\n",
        "4- Dot Product Multiplication\r\n",
        "\r\n",
        "\r\n",
        "$$ \\vec{d}=\\vec{v} \\cdot \\vec{s} = (v_{1} \\cdot s_{1}) + (v_{2} \\cdot s_{2}) ... + \\; (v_{n} \\cdot s_{n})$$"
      ]
    },
    {
      "cell_type": "code",
      "metadata": {
        "id": "9xSZu9zWjpgr",
        "colab": {
          "base_uri": "https://localhost:8080/"
        },
        "outputId": "449377ca-8f19-482c-c28d-d4cbeee6a15a"
      },
      "source": [
        "\r\n",
        "import math\r\n",
        "import numpy as np\r\n",
        "\r\n",
        "v = np.array([[2],\r\n",
        "              [1]]) \r\n",
        "s = np.array([[-3],\r\n",
        "              [2]])\r\n",
        "d = v.transpose().dot(s)\r\n",
        "print (d)"
      ],
      "execution_count": null,
      "outputs": [
        {
          "output_type": "stream",
          "text": [
            "[[-4]]\n"
          ],
          "name": "stdout"
        }
      ]
    },
    {
      "cell_type": "markdown",
      "metadata": {
        "id": "PgXPtvE5j79t"
      },
      "source": [
        "## **Matrices:**\r\n",
        "\r\n",
        "# 1- create a Matrice:\r\n",
        "A matrix arranges numbers into rows and columns, like this:\r\n",
        "\r\n",
        "$$A = \\begin{bmatrix}\r\n",
        "  1 &amp; 2 &amp; 3 \\\\\r\n",
        "  4 &amp; 5 &amp; 6\r\n",
        " \\end{bmatrix}\r\n",
        "$$"
      ]
    },
    {
      "cell_type": "code",
      "metadata": {
        "id": "uZEPEBzolG7d",
        "colab": {
          "base_uri": "https://localhost:8080/"
        },
        "outputId": "9a630d67-439f-471a-d3d7-c9ac9fb9e516"
      },
      "source": [
        "import numpy as np\r\n",
        "\r\n",
        "A = np.arange(1, 7).reshape(2, 3)\r\n",
        "print (A)"
      ],
      "execution_count": null,
      "outputs": [
        {
          "output_type": "stream",
          "text": [
            "[[1 2 3]\n",
            " [4 5 6]]\n"
          ],
          "name": "stdout"
        }
      ]
    },
    {
      "cell_type": "markdown",
      "metadata": {
        "id": "Ux8mSUHblecq"
      },
      "source": [
        "\r\n",
        "#2- Matrix Transposition\r\n",
        "You can transpose a matrix, that is switch the orientation of its rows and columns. You indicate this with a superscript T, like this:\r\n",
        "\r\n",
        "$$\\begin{bmatrix}1 &amp; 2 &amp; 3 \\\\4 &amp; 5 &amp; 6\\end{bmatrix}^{T} = \\begin{bmatrix}1 &amp; 42 &amp; 53 &amp; 6 \\end{bmatrix}$$"
      ]
    },
    {
      "cell_type": "markdown",
      "metadata": {
        "id": "o1DWED1nl4-Z"
      },
      "source": [
        "a- How can we do it mathematically? \r\n",
        "Each column become a row\r\n",
        "\r\n"
      ]
    },
    {
      "cell_type": "markdown",
      "metadata": {
        "id": "dNQOyc-jmMNg"
      },
      "source": [
        "b- with Python: "
      ]
    },
    {
      "cell_type": "code",
      "metadata": {
        "colab": {
          "base_uri": "https://localhost:8080/"
        },
        "id": "wFusE1HfmCO_",
        "outputId": "dd835f46-0017-41a9-8b89-2ba21b1d8c74"
      },
      "source": [
        "import numpy as np\r\n",
        "\r\n",
        "A = np.arange(1, 7).reshape(2, 3)\r\n",
        "A = A.transpose()\r\n",
        "print(A)\r\n",
        "\r\n"
      ],
      "execution_count": null,
      "outputs": [
        {
          "output_type": "stream",
          "text": [
            "[[1 4]\n",
            " [2 5]\n",
            " [3 6]]\n"
          ],
          "name": "stdout"
        }
      ]
    },
    {
      "cell_type": "markdown",
      "metadata": {
        "id": "tbRgbgdlmy0Y"
      },
      "source": [
        "## **Eigendecomposition:**\r\n",
        "\r\n",
        "So we've learned a little about eigenvalues and eigenvectors; but you may be wondering what use they are. Well, one use for them is to help decompose transformation matrices.\r\n",
        "\r\n",
        "1- How can we decompose a matrix? ( Rules and steps)\r\n",
        "2- (Bonus) Do it in python with your exampls."
      ]
    },
    {
      "cell_type": "markdown",
      "metadata": {
        "id": "kHW9jxS8LgCk"
      },
      "source": [
        "Eigendecompostion is used to diagonalize a matrix , first we have to calculate its eigenvalues and eigenvectors "
      ]
    },
    {
      "cell_type": "code",
      "metadata": {
        "id": "UStyMfAao4DB"
      },
      "source": [
        "#2 bonus\r\n",
        "import numpy as np"
      ],
      "execution_count": null,
      "outputs": []
    }
  ]
}